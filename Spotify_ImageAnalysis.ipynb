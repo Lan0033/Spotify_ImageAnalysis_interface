{
 "cells": [
  {
   "cell_type": "code",
   "execution_count": 1,
   "id": "16aef9f8-04f1-4f6c-8c3d-7bc6e0d6f5c1",
   "metadata": {},
   "outputs": [],
   "source": [
    "import spotipy\n",
    "import spotipy.util as util\n",
    "import webbrowser\n",
    "import json\n",
    "import urllib.request\n",
    "import requests"
   ]
  },
  {
   "cell_type": "code",
   "execution_count": 252,
   "id": "62551d47-b8a3-456e-9d21-aa64004b469d",
   "metadata": {},
   "outputs": [],
   "source": [
    "key_file = \"Imagga_key.json\"\n",
    "with open(key_file, \"r\") as keys:\n",
    "    api_tokens = json.load(keys)"
   ]
  },
  {
   "cell_type": "code",
   "execution_count": 253,
   "id": "7abbbbdb-7bdb-43ee-8aa4-087de62d8470",
   "metadata": {},
   "outputs": [
    {
     "name": "stdout",
     "output_type": "stream",
     "text": [
      "{'result': {'tags': [{'confidence': 36.8526573181152, 'tag': {'en': 'lighting'}}, {'confidence': 29.9529914855957, 'tag': {'en': 'orange'}}, {'confidence': 29.8300170898438, 'tag': {'en': 'silhouette'}}, {'confidence': 29.2800922393799, 'tag': {'en': 'apparatus'}}, {'confidence': 29.0788288116455, 'tag': {'en': 'fire'}}, {'confidence': 28.6486206054688, 'tag': {'en': 'cemetery'}}, {'confidence': 28.456335067749, 'tag': {'en': 'night'}}, {'confidence': 27.3716239929199, 'tag': {'en': 'sun'}}, {'confidence': 26.5247364044189, 'tag': {'en': 'light'}}, {'confidence': 25.2277450561523, 'tag': {'en': 'heat'}}, {'confidence': 24.2481346130371, 'tag': {'en': 'dark'}}, {'confidence': 23.4780101776123, 'tag': {'en': 'flame'}}, {'confidence': 21.6652507781982, 'tag': {'en': 'black'}}, {'confidence': 21.1884765625, 'tag': {'en': 'burn'}}, {'confidence': 20.9571094512939, 'tag': {'en': 'hot'}}, {'confidence': 20.0292205810547, 'tag': {'en': 'danger'}}, {'confidence': 19.789623260498, 'tag': {'en': 'equipment'}}, {'confidence': 19.7886810302734, 'tag': {'en': 'art'}}, {'confidence': 17.4630126953125, 'tag': {'en': 'design'}}, {'confidence': 16.8271255493164, 'tag': {'en': 'star'}}, {'confidence': 16.5513973236084, 'tag': {'en': 'fireplace'}}, {'confidence': 16.4514541625977, 'tag': {'en': 'burning'}}, {'confidence': 16.2079963684082, 'tag': {'en': 'blaze'}}, {'confidence': 15.7813444137573, 'tag': {'en': 'inferno'}}, {'confidence': 15.400426864624, 'tag': {'en': 'tree'}}, {'confidence': 15.2929229736328, 'tag': {'en': 'sunset'}}, {'confidence': 14.806752204895, 'tag': {'en': 'bonfire'}}, {'confidence': 14.7539043426514, 'tag': {'en': 'hell'}}, {'confidence': 14.7519865036011, 'tag': {'en': 'flames'}}, {'confidence': 14.4165592193604, 'tag': {'en': 'crowd'}}, {'confidence': 14.3091335296631, 'tag': {'en': 'energy'}}, {'confidence': 14.0466623306274, 'tag': {'en': 'sky'}}, {'confidence': 13.8047113418579, 'tag': {'en': 'flammable'}}, {'confidence': 13.37584400177, 'tag': {'en': 'smoke'}}, {'confidence': 13.2659435272217, 'tag': {'en': 'yellow'}}, {'confidence': 13.2403678894043, 'tag': {'en': 'dance'}}, {'confidence': 12.8823900222778, 'tag': {'en': 'bright'}}, {'confidence': 12.6508512496948, 'tag': {'en': 'music'}}, {'confidence': 12.5459136962891, 'tag': {'en': 'dancing'}}, {'confidence': 12.1734867095947, 'tag': {'en': 'mystic'}}, {'confidence': 11.9763135910034, 'tag': {'en': 'celebration'}}, {'confidence': 11.9645738601685, 'tag': {'en': 'warm'}}, {'confidence': 11.8497838973999, 'tag': {'en': 'ignite'}}, {'confidence': 11.7931156158447, 'tag': {'en': 'fiery'}}, {'confidence': 11.7675657272339, 'tag': {'en': 'power'}}, {'confidence': 11.7263898849487, 'tag': {'en': 'people'}}, {'confidence': 11.5011653900146, 'tag': {'en': 'wallpaper'}}, {'confidence': 11.1890459060669, 'tag': {'en': 'party'}}, {'confidence': 11.0921926498413, 'tag': {'en': 'glowing'}}, {'confidence': 10.7626504898071, 'tag': {'en': 'holiday'}}, {'confidence': 10.1788625717163, 'tag': {'en': 'event'}}, {'confidence': 10.1704254150391, 'tag': {'en': 'glow'}}, {'confidence': 9.67960548400879, 'tag': {'en': 'landscape'}}, {'confidence': 9.65237426757812, 'tag': {'en': 'emergency'}}, {'confidence': 9.58260631561279, 'tag': {'en': 'pattern'}}, {'confidence': 9.52162170410156, 'tag': {'en': 'dangerous'}}, {'confidence': 9.43712997436523, 'tag': {'en': 'symbol'}}, {'confidence': 9.42594051361084, 'tag': {'en': 'moon'}}, {'confidence': 9.07361507415771, 'tag': {'en': 'celestial body'}}, {'confidence': 9.02729415893555, 'tag': {'en': 'fantasy'}}, {'confidence': 8.99160671234131, 'tag': {'en': 'disco'}}, {'confidence': 8.904616355896, 'tag': {'en': 'wildfire'}}, {'confidence': 8.60971546173096, 'tag': {'en': 'colorful'}}, {'confidence': 8.44460487365723, 'tag': {'en': 'sunrise'}}, {'confidence': 8.34549522399902, 'tag': {'en': 'texture'}}, {'confidence': 7.9431324005127, 'tag': {'en': 'cloud'}}, {'confidence': 7.91671371459961, 'tag': {'en': 'autumn'}}, {'confidence': 7.8082799911499, 'tag': {'en': 'audience'}}, {'confidence': 7.79575824737549, 'tag': {'en': 'color'}}, {'confidence': 7.71812009811401, 'tag': {'en': 'fuel'}}, {'confidence': 7.70451736450195, 'tag': {'en': 'person'}}, {'confidence': 7.68232345581055, 'tag': {'en': 'graphics'}}, {'confidence': 7.67029237747192, 'tag': {'en': 'grunge'}}, {'confidence': 7.58003234863281, 'tag': {'en': 'man'}}, {'confidence': 7.4915509223938, 'tag': {'en': 'city'}}, {'confidence': 7.42522954940796, 'tag': {'en': 'backdrop'}}, {'confidence': 7.21070909500122, 'tag': {'en': 'horizon'}}, {'confidence': 7.10092449188232, 'tag': {'en': 'male'}}]}, 'status': {'text': '', 'type': 'success'}}\n"
     ]
    }
   ],
   "source": [
    "api_key = api_tokens[\"api_key\"]\n",
    "api_secret = api_tokens[\"api_secret\"]\n",
    "image_url = 'https://i.pinimg.com/564x/96/78/c4/9678c4bc9f52e15b777c622a79610d1f.jpg'\n",
    "keys = json.loads(key_content.replace('=', ':').replace('\"\"', '\"').replace('\"{', '{').replace('}\"', '}'))\n",
    "response = requests.get(\n",
    "    f'https://api.imagga.com/v2/tags?image_url={image_url}',\n",
    "    auth=(api_key, api_secret))\n",
    "\n",
    "print(response.json())"
   ]
  },
  {
   "cell_type": "code",
   "execution_count": 254,
   "id": "8133eb40-3911-447a-aeb2-381a2e07d96b",
   "metadata": {},
   "outputs": [
    {
     "name": "stdout",
     "output_type": "stream",
     "text": [
      "['lighting', 'orange', 'silhouette', 'apparatus', 'fire', 'cemetery', 'night', 'sun', 'light', 'heat', 'dark', 'flame', 'black', 'burn', 'hot', 'danger', 'equipment', 'art', 'design', 'star', 'fireplace', 'burning', 'blaze', 'inferno', 'tree', 'sunset', 'bonfire', 'hell', 'flames', 'crowd', 'energy', 'sky', 'flammable', 'smoke', 'yellow', 'dance', 'bright', 'music', 'dancing', 'mystic', 'celebration', 'warm', 'ignite', 'fiery', 'power', 'people', 'wallpaper', 'party', 'glowing', 'holiday', 'event', 'glow', 'landscape', 'emergency', 'pattern', 'dangerous', 'symbol', 'moon', 'celestial body', 'fantasy', 'disco', 'wildfire', 'colorful', 'sunrise', 'texture', 'cloud', 'autumn', 'audience', 'color', 'fuel', 'person', 'graphics', 'grunge', 'man', 'city', 'backdrop', 'horizon', 'male']\n"
     ]
    }
   ],
   "source": [
    "response_data = response.json()\n",
    "tags = response_data['result']['tags']\n",
    "tag_keys = [tag['tag']['en'] for tag in tags]\n",
    "print(tag_keys)"
   ]
  },
  {
   "cell_type": "code",
   "execution_count": 235,
   "id": "42d9b24e-150a-4c6b-9c82-12efb38c1a27",
   "metadata": {},
   "outputs": [],
   "source": [
    "credentials = \"spotify.json\"\n",
    "with open(credentials, \"r\") as keys:\n",
    "    api_tokens = json.load(keys)"
   ]
  },
  {
   "cell_type": "code",
   "execution_count": 236,
   "id": "0cfd6046-bf79-4fc2-8d97-091887a0ea92",
   "metadata": {},
   "outputs": [],
   "source": [
    "client_id = api_tokens[\"client_id\"]\n",
    "client_secret = api_tokens[\"client_secret\"]\n",
    "redirectURI = api_tokens[\"redirect\"]\n",
    "username = api_tokens[\"username\"]"
   ]
  },
  {
   "cell_type": "code",
   "execution_count": 237,
   "id": "576d4fd7-98b8-4a6f-870b-7b364d89d367",
   "metadata": {},
   "outputs": [
    {
     "name": "stdin",
     "output_type": "stream",
     "text": [
      "Enter the URL you were redirected to:  https://www.google.co.uk/?code=AQCh6d7Du4tMqupE-IPKG1mdYEXc-tN6JcqrkN2FfSTguiaFGg1lfQtsv6uFmJa4qUA9sDnW-T-qRnMFJHaG0DkhnaGvgiFnJ2Cswa-sAn53HTKDldDEZS9qzLffSel1IN_JZzXOeYX_MqzQ77kE75L8VJqhSnXEzn65vIXiZj8PfMsIHUCS_gknXz4x_XyKNj_o5l_ukA0bEH71f5-TLWus5qiH0ChhI4om1VaYgVq0V1QQd36Gff3Wjn6sVnQHXKJNU5LunZjyq2O9dlg24OZGCahs7T0vYeN64tBRPGjyAlPrN1W5U5Kd5E6elyLSRw\n"
     ]
    }
   ],
   "source": [
    "scope = 'user-read-private user-read-playback-state user-modify-playback-state playlist-modify-public user-library-read'\n",
    "token = util.prompt_for_user_token(username, scope, client_id=client_id,\n",
    "                           client_secret=client_secret,\n",
    "                           redirect_uri=redirectURI)"
   ]
  },
  {
   "cell_type": "code",
   "execution_count": 238,
   "id": "106e9303-19d2-42fd-9e34-8b40f3cf69b6",
   "metadata": {},
   "outputs": [],
   "source": [
    "sp = spotipy.Spotify(auth=token)"
   ]
  },
  {
   "cell_type": "code",
   "execution_count": 255,
   "id": "d7405fcd-badc-4722-ab49-b1181c9e9bb3",
   "metadata": {},
   "outputs": [
    {
     "name": "stdout",
     "output_type": "stream",
     "text": [
      "['79aotvPXTlHbZ8MvoxhqAE', '0TpW6dQ8P4RXesizPOH1oy', '1GguPRrP1MauQE4fJutKsR', '10DXUCsYXmkfJRl8gs0ZZ0', '0oejybOGFu5PT94hh3uN33', '5Qi20vRLYk4s7fRi0O1LGt', '15BoDLbutJdo5ZtLpx2FUr', '1ILPWVZwpR1Qlx1cij1GtI', '2yR1KxI9rCl28RsUjL5iJT', '3iRZoMlMrAKXG1vcNFMG7u', '0QUfUKpcj4lOj5YOxeJBmu', '6xgGtXnTN72c998uktI27L', '3fq4yaw6mRVQYX3yk8HMFm', '2CFhMSMPH5klExpPCBKoMn', '5MqKjGK0ZEMXjMhiwsaXpR', '75NI6pNNvOvpeb8SsBkedd', '3dM4xE4Ti78i8OqHHTf1kA', '5lFOpfSZGT2uKnPmZW8OCJ', '3JexMaCbMzJhzXZpM1PCEu', '5f2AX66UFksmHbdUKczAhh', '0qmTI3gDdb18SsdH7zbLLj', '2rjiRcnfzYAdcjtYo6geH3', '2kgmg21mY2ER3SxkPvZx29', '5GJJwtIFPtPlXyniHkZJON', '1Kan85Ek9A9JsEwVGUfh33', '0P8YuBOk4rDifXw5FyZoAa', '3NeCVoDLRPBQsSGJzhMtq2', '2dbkyU01VuJXLJa5PO4cpC', '5whQfRW95pBOyZxQPJHfvZ', '6xzNMVR8gVvp0Skrag6RB5']\n"
     ]
    }
   ],
   "source": [
    "selected_tags = tag_keys[:20]\n",
    "search_query = \" AND \".join(selected_tags)\n",
    "search_results = sp.search(q=search_query, type='track', limit=30) \n",
    "music_tracks = [item['id'] for item in search_results['tracks']['items']]\n",
    "print (music_tracks)"
   ]
  },
  {
   "cell_type": "code",
   "execution_count": 256,
   "id": "8ac08e39-e849-47c0-9c7a-aa2d43e50a4c",
   "metadata": {},
   "outputs": [],
   "source": [
    "if music_tracks:\n",
    "    playlist_name = \"image Playlist\"\n",
    "    playlist_description = \"Playlist generated from image tags\"\n",
    "    user_id = sp.current_user()['id']"
   ]
  },
  {
   "cell_type": "code",
   "execution_count": 257,
   "id": "83e5aa48-bb30-415a-b032-b10fcae54704",
   "metadata": {},
   "outputs": [],
   "source": [
    "playlist = sp.user_playlist_create(user=user_id, name=playlist_name, public=True, description=playlist_description)"
   ]
  },
  {
   "cell_type": "code",
   "execution_count": 258,
   "id": "be9253ed-ef44-471d-bf2d-4542de2d1345",
   "metadata": {},
   "outputs": [
    {
     "data": {
      "text/plain": [
       "{'snapshot_id': 'AAAAAqUpQ3VGo2PlXNUPG64Dy/bNjdDc'}"
      ]
     },
     "execution_count": 258,
     "metadata": {},
     "output_type": "execute_result"
    }
   ],
   "source": [
    "sp.playlist_add_items(playlist['id'], music_tracks)"
   ]
  },
  {
   "cell_type": "code",
   "execution_count": null,
   "id": "f78258d0-7efb-474b-af95-50841a70b587",
   "metadata": {},
   "outputs": [],
   "source": []
  }
 ],
 "metadata": {
  "kernelspec": {
   "display_name": "Python 3 (ipykernel)",
   "language": "python",
   "name": "python3"
  },
  "language_info": {
   "codemirror_mode": {
    "name": "ipython",
    "version": 3
   },
   "file_extension": ".py",
   "mimetype": "text/x-python",
   "name": "python",
   "nbconvert_exporter": "python",
   "pygments_lexer": "ipython3",
   "version": "3.12.7"
  }
 },
 "nbformat": 4,
 "nbformat_minor": 5
}
